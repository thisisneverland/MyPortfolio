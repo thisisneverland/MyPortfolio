{
  "nbformat": 4,
  "nbformat_minor": 0,
  "metadata": {
    "colab": {
      "provenance": [],
      "authorship_tag": "ABX9TyPc4GToLatXS9tOHiJj03An",
      "include_colab_link": true
    },
    "kernelspec": {
      "name": "python3",
      "display_name": "Python 3"
    },
    "language_info": {
      "name": "python"
    }
  },
  "cells": [
    {
      "cell_type": "markdown",
      "metadata": {
        "id": "view-in-github",
        "colab_type": "text"
      },
      "source": [
        "<a href=\"https://colab.research.google.com/github/thisisneverland/MyPortfolio/blob/main/%EB%A7%A4%EC%9D%BC%EA%B2%BD%EC%A0%9C%ED%81%AC%EB%A1%A4%EB%A7%81.ipynb\" target=\"_parent\"><img src=\"https://colab.research.google.com/assets/colab-badge.svg\" alt=\"Open In Colab\"/></a>"
      ]
    },
    {
      "cell_type": "code",
      "execution_count": 2,
      "metadata": {
        "colab": {
          "base_uri": "https://localhost:8080/"
        },
        "id": "gGF_OgnlNXxx",
        "outputId": "35a62aeb-b1f5-423f-a5b3-4182400caa1c"
      },
      "outputs": [
        {
          "output_type": "stream",
          "name": "stdout",
          "text": [
            "Requirement already satisfied: requests in /usr/local/lib/python3.10/dist-packages (2.32.3)\n",
            "Requirement already satisfied: beautifulsoup4 in /usr/local/lib/python3.10/dist-packages (4.12.3)\n",
            "Requirement already satisfied: charset-normalizer<4,>=2 in /usr/local/lib/python3.10/dist-packages (from requests) (3.4.0)\n",
            "Requirement already satisfied: idna<4,>=2.5 in /usr/local/lib/python3.10/dist-packages (from requests) (3.10)\n",
            "Requirement already satisfied: urllib3<3,>=1.21.1 in /usr/local/lib/python3.10/dist-packages (from requests) (2.2.3)\n",
            "Requirement already satisfied: certifi>=2017.4.17 in /usr/local/lib/python3.10/dist-packages (from requests) (2024.8.30)\n",
            "Requirement already satisfied: soupsieve>1.2 in /usr/local/lib/python3.10/dist-packages (from beautifulsoup4) (2.6)\n"
          ]
        }
      ],
      "source": [
        "pip install requests beautifulsoup4"
      ]
    },
    {
      "cell_type": "code",
      "source": [
        "import requests\n",
        "from bs4 import BeautifulSoup\n",
        "\n",
        "# 매일 경제 뉴스 URL\n",
        "url = \"https://www.mk.co.kr/news/stock/latest/\"\n",
        "\n",
        "# User-Agent 헤더 설정\n",
        "headers = {\n",
        "    \"User-Agent\": \"Mozilla/5.0 (Windows NT 10.0; Win64; x64) AppleWebKit/537.36 (KHTML, like Gecko) Chrome/91.0.4472.124 Safari/537.36\"\n",
        "}\n",
        "\n",
        "# 요청 보내기\n",
        "response = requests.get(url, headers=headers)\n",
        "response.raise_for_status()  # 요청에 실패하면 에러 발생\n",
        "\n",
        "# HTML 파싱\n",
        "soup = BeautifulSoup(response.text, \"html.parser\")\n",
        "\n",
        "# 뉴스 제목과 링크 추출\n",
        "articles = soup.select(\"div.txt_area > h3\")  # h3 태그는 뉴스 제목을 포함\n",
        "\n",
        "if not articles:\n",
        "    print(\"뉴스 기사가 없습니다. 페이지 구조를 확인하세요.\")\n",
        "else:\n",
        "    for article in articles:\n",
        "        # 제목 추출: article에서 직접 get_text() 호출\n",
        "        title = article.get_text(strip=True)\n",
        "\n",
        "        # 링크 추출: a 태그를 선택하고 href 속성 가져오기\n",
        "        link_tag = article.find_parent(\"a\")\n",
        "        if link_tag and link_tag.has_attr(\"href\"):\n",
        "            link = \"https://www.mk.co.kr\" + link_tag[\"href\"]\n",
        "        else:\n",
        "            link = \"링크 없음\"  # 링크가 없는 경우 처리\n",
        "\n",
        "        print(f\"제목: {title}\")\n",
        "        print(f\"링크: {link}\\n\")\n"
      ],
      "metadata": {
        "colab": {
          "base_uri": "https://localhost:8080/"
        },
        "id": "1MchyVKtNu4V",
        "outputId": "30ba933e-8294-4c1d-b2f8-c02d0f879848"
      },
      "execution_count": 30,
      "outputs": [
        {
          "output_type": "stream",
          "name": "stdout",
          "text": [
            "제목: “해리스만 믿었는데”…미국 국채 베팅했던 서학개미 곡소리\n",
            "링크: https://www.mk.co.krhttps://www.mk.co.kr/news/stock/11162662\n",
            "\n",
            "제목: LB자산운용, 리드코프 맞손 서울 알짜 오피스빌딩 산다\n",
            "링크: https://www.mk.co.krhttps://www.mk.co.kr/news/stock/11162650\n",
            "\n",
            "제목: 트럼프 “이건 한국이 최고”...줄줄이 장중 신고가 쓴 조선·방산株 [다시 트럼프 시대]\n",
            "링크: https://www.mk.co.krhttps://www.mk.co.kr/news/stock/11162648\n",
            "\n",
            "제목: “불장 제대로 섰다”…트럼프 백악관 컴백에 천장까지 뚫은 이것\n",
            "링크: https://www.mk.co.krhttps://www.mk.co.kr/news/stock/11162636\n",
            "\n",
            "제목: 삼일PwC “책무구조 도입, 글로벌 수준 금융규제 환경으로 대전환”\n",
            "링크: https://www.mk.co.krhttps://www.mk.co.kr/news/stock/11162621\n",
            "\n",
            "제목: 트럼프 축포 쏜 美증시\n",
            "링크: https://www.mk.co.krhttps://www.mk.co.kr/news/stock/11162615\n",
            "\n",
            "제목: [단독]LB자산운용, 크리스탈 스퀘어 품는다…SI로 리드코프 유치\n",
            "링크: https://www.mk.co.krhttps://www.mk.co.kr/news/stock/11162612\n",
            "\n",
            "제목: [표] 당좌거래정지\n",
            "링크: https://www.mk.co.krhttps://www.mk.co.kr/news/economy/11162605\n",
            "\n",
            "제목: 트럼프 구애로 물 만난 조선株…친환경 주식은 '시들' [다시 트럼프 시대]\n",
            "링크: https://www.mk.co.krhttps://www.mk.co.kr/news/stock/11162574\n",
            "\n",
            "제목: 오늘의 증시 일정(11월 8일)\n",
            "링크: https://www.mk.co.krhttps://www.mk.co.kr/news/stock/11162565\n",
            "\n"
          ]
        }
      ]
    },
    {
      "cell_type": "code",
      "source": [
        "import requests\n",
        "from bs4 import BeautifulSoup\n",
        "\n",
        "# 매일 경제 뉴스 URL\n",
        "url = \"https://www.mk.co.kr/news/stock/latest/\"\n",
        "\n",
        "# User-Agent 헤더 설정\n",
        "headers = {\n",
        "    \"User-Agent\": \"Mozilla/5.0 (Windows NT 10.0; Win64; x64) AppleWebKit/537.36 (KHTML, like Gecko) Chrome/91.0.4472.124 Safari/537.36\"\n",
        "}\n",
        "\n",
        "# 요청 보내기\n",
        "response = requests.get(url, headers=headers)\n",
        "response.raise_for_status()  # 요청에 실패하면 에러 발생\n",
        "\n",
        "# 키워드 설정\n",
        "\n",
        "keyword = \"트럼프\"\n",
        "\n",
        "# HTML 파싱\n",
        "soup = BeautifulSoup(response.text, \"html.parser\")\n",
        "\n",
        "# 뉴스 제목과 링크 추출\n",
        "articles = soup.select(\"div.txt_area > h3\")  # 뉴스 제목이 포함된 선택자\n",
        "\n",
        "if not articles:\n",
        "    print(\"뉴스 기사가 없습니다. 페이지 구조를 확인하세요.\")\n",
        "else:\n",
        "    for article in articles:\n",
        "        # 제목 추출: article에서 직접 get_text() 호출\n",
        "        title = article.get_text(strip=True)\n",
        "\n",
        "        # 링크 추출: a 태그를 선택하고 href 속성 가져오기\n",
        "        link_tag = article.find_parent(\"a\")\n",
        "        if link_tag and link_tag.has_attr(\"href\"):\n",
        "            link = \"https://www.mk.co.kr\" + link_tag[\"href\"]\n",
        "        else:\n",
        "            link = \"링크 없음\"  # 링크가 없는 경우 처리\n",
        "\n",
        "        # 제목에 키워드가 포함되었는지 확인\n",
        "        if keyword in title:\n",
        "            print(f\"제목: {title}\")\n",
        "            print(f\"링크: {link}\\n\")\n"
      ],
      "metadata": {
        "colab": {
          "base_uri": "https://localhost:8080/"
        },
        "id": "44buEKdeg1Tk",
        "outputId": "0fc0038d-495b-4d74-9302-6bca14a1c660"
      },
      "execution_count": 31,
      "outputs": [
        {
          "output_type": "stream",
          "name": "stdout",
          "text": [
            "제목: 트럼프 “이건 한국이 최고”...줄줄이 장중 신고가 쓴 조선·방산株 [다시 트럼프 시대]\n",
            "링크: https://www.mk.co.krhttps://www.mk.co.kr/news/stock/11162648\n",
            "\n",
            "제목: “불장 제대로 섰다”…트럼프 백악관 컴백에 천장까지 뚫은 이것\n",
            "링크: https://www.mk.co.krhttps://www.mk.co.kr/news/stock/11162636\n",
            "\n",
            "제목: 트럼프 축포 쏜 美증시\n",
            "링크: https://www.mk.co.krhttps://www.mk.co.kr/news/stock/11162615\n",
            "\n",
            "제목: 트럼프 구애로 물 만난 조선株…친환경 주식은 '시들' [다시 트럼프 시대]\n",
            "링크: https://www.mk.co.krhttps://www.mk.co.kr/news/stock/11162574\n",
            "\n"
          ]
        }
      ]
    }
  ]
}